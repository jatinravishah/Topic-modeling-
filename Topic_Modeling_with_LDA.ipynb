{
  "nbformat": 4,
  "nbformat_minor": 0,
  "metadata": {
    "kernelspec": {
      "display_name": "Python 3",
      "language": "python",
      "name": "python3"
    },
    "language_info": {
      "codemirror_mode": {
        "name": "ipython",
        "version": 3
      },
      "file_extension": ".py",
      "mimetype": "text/x-python",
      "name": "python",
      "nbconvert_exporter": "python",
      "pygments_lexer": "ipython3",
      "version": "3.6.6"
    },
    "colab": {
      "provenance": [],
      "collapsed_sections": []
    }
  },
  "cells": [
    {
      "cell_type": "markdown",
      "metadata": {
        "_cell_guid": "81e6c728-92d6-46b6-848f-2124df59fc92",
        "_uuid": "ea84e7b744d0d5701e0019253aa9905718e55d72",
        "id": "Fn5otZjiuYjz"
      },
      "source": [
        "## <b><u> Exploratory Data Analysis </u></b>\n",
        "### As usual, it is prudent to begin with some basic exploratory analysis."
      ]
    },
    {
      "cell_type": "code",
      "metadata": {
        "_cell_guid": "b1f10f39-91d4-45f1-b62f-d1f590e50438",
        "_kg_hide-input": false,
        "_kg_hide-output": false,
        "_uuid": "7edd510ba8ac857514e34d6b38c0466d125cffb9",
        "id": "CTnp4LkiuYj0"
      },
      "source": [
        "import numpy as np\n",
        "import pandas as pd\n",
        "from IPython.display import display\n",
        "from tqdm import tqdm\n",
        "from collections import Counter\n",
        "import ast\n",
        "\n",
        "import matplotlib.pyplot as plt\n",
        "import matplotlib.mlab as mlab\n",
        "import seaborn as sb\n",
        "\n",
        "from sklearn.feature_extraction.text import CountVectorizer\n",
        "from textblob import TextBlob\n",
        "import scipy.stats as stats\n",
        "\n",
        "from sklearn.decomposition import TruncatedSVD\n",
        "from sklearn.decomposition import LatentDirichletAllocation\n",
        "from sklearn.manifold import TSNE\n",
        "\n",
        "\n",
        "\n",
        "%matplotlib inline"
      ],
      "execution_count": null,
      "outputs": []
    },
    {
      "cell_type": "code",
      "metadata": {
        "colab": {
          "base_uri": "https://localhost:8080/"
        },
        "id": "kjRvkD-OxPgT",
        "outputId": "8ebde3e7-2cc6-4b43-895c-84626fcdf102"
      },
      "source": [
        "from google.colab import drive\n",
        "drive.mount('/content/drive')"
      ],
      "execution_count": null,
      "outputs": [
        {
          "output_type": "stream",
          "name": "stdout",
          "text": [
            "Mounted at /content/drive\n"
          ]
        }
      ]
    },
    {
      "cell_type": "code",
      "metadata": {
        "_uuid": "99df159d8549d11d99e8a349a4a7893812b187f2",
        "id": "cLJc5V7juYj2",
        "colab": {
          "base_uri": "https://localhost:8080/",
          "height": 206
        },
        "outputId": "8d153d27-032f-4e38-c4d5-04458b89dc01"
      },
      "source": [
        "datafile = '/content/driv.csv'\n",
        "raw_data = pd.read_csv(datafile, parse_dates=[0], infer_datetime_format=True)\n",
        "\n",
        "reindexed_data = raw_data['headline_text']\n",
        "reindexed_data.index = raw_data['publish_date']\n",
        "\n",
        "raw_data.head()"
      ],
      "execution_count": null,
      "outputs": [
        {
          "output_type": "execute_result",
          "data": {
            "text/plain": [
              "  publish_date                                      headline_text\n",
              "0   2003-02-19  aba decides against community broadcasting lic...\n",
              "1   2003-02-19     act fire witnesses must be aware of defamation\n",
              "2   2003-02-19     a g calls for infrastructure protection summit\n",
              "3   2003-02-19           air nz staff in aust strike for pay rise\n",
              "4   2003-02-19      air nz strike to affect australian travellers"
            ],
            "text/html": [
              "\n",
              "  <div id=\"df-975d38a2-52ab-434b-98d4-16ca33af3960\">\n",
              "    <div class=\"colab-df-container\">\n",
              "      <div>\n",
              "<style scoped>\n",
              "    .dataframe tbody tr th:only-of-type {\n",
              "        vertical-align: middle;\n",
              "    }\n",
              "\n",
              "    .dataframe tbody tr th {\n",
              "        vertical-align: top;\n",
              "    }\n",
              "\n",
              "    .dataframe thead th {\n",
              "        text-align: right;\n",
              "    }\n",
              "</style>\n",
              "<table border=\"1\" class=\"dataframe\">\n",
              "  <thead>\n",
              "    <tr style=\"text-align: right;\">\n",
              "      <th></th>\n",
              "      <th>publish_date</th>\n",
              "      <th>headline_text</th>\n",
              "    </tr>\n",
              "  </thead>\n",
              "  <tbody>\n",
              "    <tr>\n",
              "      <th>0</th>\n",
              "      <td>2003-02-19</td>\n",
              "      <td>aba decides against community broadcasting lic...</td>\n",
              "    </tr>\n",
              "    <tr>\n",
              "      <th>1</th>\n",
              "      <td>2003-02-19</td>\n",
              "      <td>act fire witnesses must be aware of defamation</td>\n",
              "    </tr>\n",
              "    <tr>\n",
              "      <th>2</th>\n",
              "      <td>2003-02-19</td>\n",
              "      <td>a g calls for infrastructure protection summit</td>\n",
              "    </tr>\n",
              "    <tr>\n",
              "      <th>3</th>\n",
              "      <td>2003-02-19</td>\n",
              "      <td>air nz staff in aust strike for pay rise</td>\n",
              "    </tr>\n",
              "    <tr>\n",
              "      <th>4</th>\n",
              "      <td>2003-02-19</td>\n",
              "      <td>air nz strike to affect australian travellers</td>\n",
              "    </tr>\n",
              "  </tbody>\n",
              "</table>\n",
              "</div>\n",
              "      <button class=\"colab-df-convert\" onclick=\"convertToInteractive('df-975d38a2-52ab-434b-98d4-16ca33af3960')\"\n",
              "              title=\"Convert this dataframe to an interactive table.\"\n",
              "              style=\"display:none;\">\n",
              "        \n",
              "  <svg xmlns=\"http://www.w3.org/2000/svg\" height=\"24px\"viewBox=\"0 0 24 24\"\n",
              "       width=\"24px\">\n",
              "    <path d=\"M0 0h24v24H0V0z\" fill=\"none\"/>\n",
              "    <path d=\"M18.56 5.44l.94 2.06.94-2.06 2.06-.94-2.06-.94-.94-2.06-.94 2.06-2.06.94zm-11 1L8.5 8.5l.94-2.06 2.06-.94-2.06-.94L8.5 2.5l-.94 2.06-2.06.94zm10 10l.94 2.06.94-2.06 2.06-.94-2.06-.94-.94-2.06-.94 2.06-2.06.94z\"/><path d=\"M17.41 7.96l-1.37-1.37c-.4-.4-.92-.59-1.43-.59-.52 0-1.04.2-1.43.59L10.3 9.45l-7.72 7.72c-.78.78-.78 2.05 0 2.83L4 21.41c.39.39.9.59 1.41.59.51 0 1.02-.2 1.41-.59l7.78-7.78 2.81-2.81c.8-.78.8-2.07 0-2.86zM5.41 20L4 18.59l7.72-7.72 1.47 1.35L5.41 20z\"/>\n",
              "  </svg>\n",
              "      </button>\n",
              "      \n",
              "  <style>\n",
              "    .colab-df-container {\n",
              "      display:flex;\n",
              "      flex-wrap:wrap;\n",
              "      gap: 12px;\n",
              "    }\n",
              "\n",
              "    .colab-df-convert {\n",
              "      background-color: #E8F0FE;\n",
              "      border: none;\n",
              "      border-radius: 50%;\n",
              "      cursor: pointer;\n",
              "      display: none;\n",
              "      fill: #1967D2;\n",
              "      height: 32px;\n",
              "      padding: 0 0 0 0;\n",
              "      width: 32px;\n",
              "    }\n",
              "\n",
              "    .colab-df-convert:hover {\n",
              "      background-color: #E2EBFA;\n",
              "      box-shadow: 0px 1px 2px rgba(60, 64, 67, 0.3), 0px 1px 3px 1px rgba(60, 64, 67, 0.15);\n",
              "      fill: #174EA6;\n",
              "    }\n",
              "\n",
              "    [theme=dark] .colab-df-convert {\n",
              "      background-color: #3B4455;\n",
              "      fill: #D2E3FC;\n",
              "    }\n",
              "\n",
              "    [theme=dark] .colab-df-convert:hover {\n",
              "      background-color: #434B5C;\n",
              "      box-shadow: 0px 1px 3px 1px rgba(0, 0, 0, 0.15);\n",
              "      filter: drop-shadow(0px 1px 2px rgba(0, 0, 0, 0.3));\n",
              "      fill: #FFFFFF;\n",
              "    }\n",
              "  </style>\n",
              "\n",
              "      <script>\n",
              "        const buttonEl =\n",
              "          document.querySelector('#df-975d38a2-52ab-434b-98d4-16ca33af3960 button.colab-df-convert');\n",
              "        buttonEl.style.display =\n",
              "          google.colab.kernel.accessAllowed ? 'block' : 'none';\n",
              "\n",
              "        async function convertToInteractive(key) {\n",
              "          const element = document.querySelector('#df-975d38a2-52ab-434b-98d4-16ca33af3960');\n",
              "          const dataTable =\n",
              "            await google.colab.kernel.invokeFunction('convertToInteractive',\n",
              "                                                     [key], {});\n",
              "          if (!dataTable) return;\n",
              "\n",
              "          const docLinkHtml = 'Like what you see? Visit the ' +\n",
              "            '<a target=\"_blank\" href=https://colab.research.google.com/notebooks/data_table.ipynb>data table notebook</a>'\n",
              "            + ' to learn more about interactive tables.';\n",
              "          element.innerHTML = '';\n",
              "          dataTable['output_type'] = 'display_data';\n",
              "          await google.colab.output.renderOutput(dataTable, element);\n",
              "          const docLink = document.createElement('div');\n",
              "          docLink.innerHTML = docLinkHtml;\n",
              "          element.appendChild(docLink);\n",
              "        }\n",
              "      </script>\n",
              "    </div>\n",
              "  </div>\n",
              "  "
            ]
          },
          "metadata": {},
          "execution_count": 4
        }
      ]
    },
    {
      "cell_type": "markdown",
      "metadata": {
        "_cell_guid": "1cdbefb7-9e8e-4a11-9cee-d39f8f16f557",
        "_uuid": "c31f278963d7bdd4c3553ada1fdb6095d50ca658",
        "id": "k3Anas4nuYj3"
      },
      "source": [
        "### First we develop a list of the top words used across all one million headlines, giving us a glimpse into the core vocabulary of the source data. Stop words are omitted here to avoid any trivial conjunctions, prepositions, etc."
      ]
    },
    {
      "cell_type": "code",
      "metadata": {
        "_cell_guid": "db6ce2f5-1247-4446-90f2-6aa2ba8af168",
        "_kg_hide-input": true,
        "_uuid": "59f4ae5e8e06786fa3ebdec7ec3011645aad3544",
        "id": "2a9DfK59uYj4"
      },
      "source": [
        "# Define helper functions\n",
        "def get_top_n_words(n_top_words, count_vectorizer, text_data):\n",
        "    '''\n",
        "    returns a tuple of the top n words in a sample and their \n",
        "    accompanying counts, given a CountVectorizer object and text sample\n",
        "    '''\n",
        "    vectorized_headlines = count_vectorizer.fit_transform(text_data.values)\n",
        "    vectorized_total = np.sum(vectorized_headlines, axis=0)\n",
        "    word_indices = np.flip(np.argsort(vectorized_total)[0,:], 1)\n",
        "    word_values = np.flip(np.sort(vectorized_total)[0,:],1)\n",
        "    \n",
        "    word_vectors = np.zeros((n_top_words, vectorized_headlines.shape[1]))\n",
        "    for i in range(n_top_words):\n",
        "        word_vectors[i,word_indices[0,i]] = 1\n",
        "\n",
        "    words = [word[0].encode('ascii').decode('utf-8') for \n",
        "             word in count_vectorizer.inverse_transform(word_vectors)]\n",
        "\n",
        "    return (words, word_values[0,:n_top_words].tolist()[0])"
      ],
      "execution_count": null,
      "outputs": []
    },
    {
      "cell_type": "code",
      "metadata": {
        "_cell_guid": "a2701525-298e-4943-8d3e-adad5d0d629d",
        "_uuid": "142e18023411d5c61cbe59a3c08c78c58993cdcc",
        "id": "TsPJDzyyuYj5",
        "colab": {
          "base_uri": "https://localhost:8080/",
          "height": 553
        },
        "outputId": "ea993433-7509-4eaa-8b80-2e7259b9d8b8"
      },
      "source": [
        "count_vectorizer = CountVectorizer(stop_words='english')\n",
        "words, word_values = get_top_n_words(n_top_words=15,\n",
        "                                     count_vectorizer=count_vectorizer, \n",
        "                                     text_data=reindexed_data)\n",
        "\n",
        "fig, ax = plt.subplots(figsize=(16,8))\n",
        "ax.bar(range(len(words)), word_values)\n",
        "ax.set_xticks(range(len(words)))\n",
        "ax.set_xticklabels(words, rotation='vertical')\n",
        "ax.set_title('Top words in headlines dataset (excluding stop words)')\n",
        "ax.set_xlabel('Word')\n",
        "ax.set_ylabel('Number of occurences')\n",
        "plt.show()"
      ],
      "execution_count": null,
      "outputs": [
        {
          "output_type": "display_data",
          "data": {
            "text/plain": [
              "<Figure size 1152x576 with 1 Axes>"
            ],
            "image/png": "[encoded data removed]"
          },
          "metadata": {
            "needs_background": "light"
          }
        }
      ]
    },
    {
      "cell_type": "code",
      "metadata": {
        "_cell_guid": "59988959-fa66-4c1f-9797-9a5ea3e6927d",
        "_uuid": "46fa661ac2dbb94d28fa1190172c52ddbce05c4a",
        "id": "-9KGNBe4uYj8",
        "colab": {
          "base_uri": "https://localhost:8080/"
        },
        "outputId": "fb08d5d5-a497-40ad-ebd5-104570ebf7cc"
      },
      "source": [
        "small_count_vectorizer = CountVectorizer(stop_words='english', max_features=4000)\n",
        "small_text_sample = reindexed_data.sample(n=10000, random_state=0).values\n",
        "\n",
        "print('Headline before vectorization: {}'.format(small_text_sample[123]))\n",
        "\n",
        "small_document_term_matrix = small_count_vectorizer.fit_transform(small_text_sample)\n",
        "\n",
        "print('Headline after vectorization: \\n{}'.format(small_document_term_matrix[123]))"
      ],
      "execution_count": null,
      "outputs": [
        {
          "output_type": "stream",
          "name": "stdout",
          "text": [
            "Headline before vectorization: man jailed for theft of police files\n",
            "Headline after vectorization: \n",
            "  (0, 2196)\t1\n",
            "  (0, 2662)\t1\n",
            "  (0, 1917)\t1\n",
            "  (0, 3596)\t1\n"
          ]
        }
      ]
    },
    {
      "cell_type": "markdown",
      "metadata": {
        "_cell_guid": "297d53ca-9738-4bfe-825a-68d44af2fa1d",
        "_uuid": "8a5b831010134d1a88350a7a2257d6c15d19b9fe",
        "id": "EAOKfDeIuYkE"
      },
      "source": [
        "## <b>Latent Dirichlet Allocation</b>\n",
        "\n",
        "### LDA is a generative probabilistic process, designed with the specific goal of uncovering latent topic structure in text corpora."
      ]
    },
    {
      "cell_type": "code",
      "metadata": {
        "_cell_guid": "c19bf4af-f399-4493-8fa5-d55e54e4f681",
        "_uuid": "0671476e00f484368beb747eb1529bfd680aa7fa",
        "id": "9iLe_nbRuYkE",
        "colab": {
          "base_uri": "https://localhost:8080/"
        },
        "outputId": "6c45f133-ab9e-4d34-a5d8-02c98d2a4910"
      },
      "source": [
        "# Parameters tuning using Grid Search\n",
        "from sklearn.model_selection import GridSearchCV\n",
        "grid_params = {'n_components' : list(range(5,10))}\n",
        "\n",
        "# LDA model\n",
        "lda = LatentDirichletAllocation()\n",
        "lda_model = GridSearchCV(lda,param_grid=grid_params)\n",
        "lda_model.fit(small_document_term_matrix)\n",
        "\n",
        "# Best LDA model\n",
        "best_lda_model = lda_model.best_estimator_\n",
        "\n",
        "print(\"Best LDA model's params\" , lda_model.best_params_)\n",
        "print(\"Best log likelihood Score for the LDA model\",lda_model.best_score_)\n",
        "print(\"LDA model Perplexity on train data\", best_lda_model.perplexity(small_document_term_matrix))"
      ],
      "execution_count": null,
      "outputs": [
        {
          "output_type": "stream",
          "name": "stdout",
          "text": [
            "Best LDA model's params {'n_components': 5}\n",
            "Best log likelihood Score for the LDA model -82833.39960387566\n",
            "LDA model Perplexity on train data 3971.524566909394\n"
          ]
        }
      ]
    },
    {
      "cell_type": "markdown",
      "metadata": {
        "_cell_guid": "efef4bb1-e9c5-48db-bd16-1c08baeba814",
        "_uuid": "acec5dac6fac1dee4bf6e214c412a8435bcc6252",
        "id": "OoFis7t8uYkE"
      },
      "source": [
        "### Once again, we take the $\\arg \\max$ of each entry in the topic matrix to obtain the predicted topic category for each headline. These topic categories can then be characterised by their most frequent words.\n"
      ]
    },
    {
      "cell_type": "code",
      "metadata": {
        "id": "iVKIKKDS0oCw",
        "outputId": "e9bbfcb0-bdae-4e33-b7e2-9128ac1d6161",
        "colab": {
          "base_uri": "https://localhost:8080/"
        }
      },
      "source": [
        "!pip install pyLDAvis"
      ],
      "execution_count": null,
      "outputs": [
        {
          "output_type": "stream",
          "name": "stdout",
          "text": [
            "Looking in indexes: https://pypi.org/simple, https://us-python.pkg.dev/colab-wheels/public/simple/\n",
            "Collecting pyLDAvis\n",
            "  Downloading pyLDAvis-3.3.1.tar.gz (1.7 MB)\n",
            "\u001b[K     |████████████████████████████████| 1.7 MB 36.8 MB/s \n",
            "\u001b[?25h  Installing build dependencies ... \u001b[?25l\u001b[?25hdone\n",
            "  Getting requirements to build wheel ... \u001b[?25l\u001b[?25hdone\n",
            "  Installing backend dependencies ... \u001b[?25l\u001b[?25hdone\n",
            "    Preparing wheel metadata ... \u001b[?25l\u001b[?25hdone\n",
            "Requirement already satisfied: numpy>=1.20.0 in /usr/local/lib/python3.7/dist-packages (from pyLDAvis) (1.21.6)\n",
            "Requirement already satisfied: scipy in /usr/local/lib/python3.7/dist-packages (from pyLDAvis) (1.7.3)\n",
            "Requirement already satisfied: pandas>=1.2.0 in /usr/local/lib/python3.7/dist-packages (from pyLDAvis) (1.3.5)\n",
            "Requirement already satisfied: gensim in /usr/local/lib/python3.7/dist-packages (from pyLDAvis) (3.6.0)\n",
            "Collecting funcy\n",
            "  Downloading funcy-1.17-py2.py3-none-any.whl (33 kB)\n",
            "Requirement already satisfied: future in /usr/local/lib/python3.7/dist-packages (from pyLDAvis) (0.16.0)\n",
            "Requirement already satisfied: jinja2 in /usr/local/lib/python3.7/dist-packages (from pyLDAvis) (2.11.3)\n",
            "Collecting sklearn\n",
            "  Downloading sklearn-0.0.tar.gz (1.1 kB)\n",
            "Requirement already satisfied: joblib in /usr/local/lib/python3.7/dist-packages (from pyLDAvis) (1.1.0)\n",
            "Requirement already satisfied: scikit-learn in /usr/local/lib/python3.7/dist-packages (from pyLDAvis) (1.0.2)\n",
            "Requirement already satisfied: setuptools in /usr/local/lib/python3.7/dist-packages (from pyLDAvis) (57.4.0)\n",
            "Requirement already satisfied: numexpr in /usr/local/lib/python3.7/dist-packages (from pyLDAvis) (2.8.3)\n",
            "Requirement already satisfied: pytz>=2017.3 in /usr/local/lib/python3.7/dist-packages (from pandas>=1.2.0->pyLDAvis) (2022.2.1)\n",
            "Requirement already satisfied: python-dateutil>=2.7.3 in /usr/local/lib/python3.7/dist-packages (from pandas>=1.2.0->pyLDAvis) (2.8.2)\n",
            "Requirement already satisfied: six>=1.5 in /usr/local/lib/python3.7/dist-packages (from python-dateutil>=2.7.3->pandas>=1.2.0->pyLDAvis) (1.15.0)\n",
            "Requirement already satisfied: smart-open>=1.2.1 in /usr/local/lib/python3.7/dist-packages (from gensim->pyLDAvis) (5.2.1)\n",
            "Requirement already satisfied: MarkupSafe>=0.23 in /usr/local/lib/python3.7/dist-packages (from jinja2->pyLDAvis) (2.0.1)\n",
            "Requirement already satisfied: packaging in /usr/local/lib/python3.7/dist-packages (from numexpr->pyLDAvis) (21.3)\n",
            "Requirement already satisfied: pyparsing!=3.0.5,>=2.0.2 in /usr/local/lib/python3.7/dist-packages (from packaging->numexpr->pyLDAvis) (3.0.9)\n",
            "Requirement already satisfied: threadpoolctl>=2.0.0 in /usr/local/lib/python3.7/dist-packages (from scikit-learn->pyLDAvis) (3.1.0)\n",
            "Building wheels for collected packages: pyLDAvis, sklearn\n",
            "  Building wheel for pyLDAvis (PEP 517) ... \u001b[?25l\u001b[?25hdone\n",
            "  Created wheel for pyLDAvis: filename=pyLDAvis-3.3.1-py2.py3-none-any.whl size=136898 sha256=ff277a97ea78f669793892414a5b583a5f1b12f6180287c84e7efacf471d4ebd\n",
            "  Stored in directory: /root/.cache/pip/wheels/c9/21/f6/17bcf2667e8a68532ba2fbf6d5c72fdf4c7f7d9abfa4852d2f\n",
            "  Building wheel for sklearn (setup.py) ... \u001b[?25l\u001b[?25hdone\n",
            "  Created wheel for sklearn: filename=sklearn-0.0-py2.py3-none-any.whl size=1310 sha256=d60d30ce0577d97bf32b7b379fb911a6065d4cb71dbada34936ccd69c76da163\n",
            "  Stored in directory: /root/.cache/pip/wheels/46/ef/c3/157e41f5ee1372d1be90b09f74f82b10e391eaacca8f22d33e\n",
            "Successfully built pyLDAvis sklearn\n",
            "Installing collected packages: sklearn, funcy, pyLDAvis\n",
            "Successfully installed funcy-1.17 pyLDAvis-3.3.1 sklearn-0.0\n"
          ]
        }
      ]
    },
    {
      "cell_type": "code",
      "metadata": {
        "id": "54Uu1siz0UiU",
        "outputId": "58297c34-b40a-4a58-c254-adc8155182ca",
        "colab": {
          "base_uri": "https://localhost:8080/"
        }
      },
      "source": [
        "import pyLDAvis.sklearn\n",
        "\n",
        "pyLDAvis.enable_notebook()"
      ],
      "execution_count": null,
      "outputs": [
        {
          "output_type": "stream",
          "name": "stderr",
          "text": [
            "/usr/local/lib/python3.7/dist-packages/past/types/oldstr.py:5: DeprecationWarning: Using or importing the ABCs from 'collections' instead of from 'collections.abc' is deprecated since Python 3.3,and in 3.9 it will stop working\n",
            "  from collections import Iterable\n",
            "/usr/local/lib/python3.7/dist-packages/past/builtins/misc.py:4: DeprecationWarning: Using or importing the ABCs from 'collections' instead of from 'collections.abc' is deprecated since Python 3.3,and in 3.9 it will stop working\n",
            "  from collections import Mapping\n"
          ]
        }
      ]
    },
    {
      "cell_type": "code",
      "metadata": {
        "colab": {
          "base_uri": "https://localhost:8080/",
          "height": 1000
        },
        "id": "wivj2jEp1DKy",
        "outputId": "55606b45-501a-4f3a-e2e5-b9f96e0fa26f"
      },
      "source": [
        "lda_panel = pyLDAvis.sklearn.prepare(best_lda_model, small_document_term_matrix,small_count_vectorizer,mds='tsne')\n",
        "lda_panel"
      ],
      "execution_count": null,
      "outputs": [
        {
          "output_type": "stream",
          "name": "stderr",
          "text": [
            "/usr/local/lib/python3.7/dist-packages/sklearn/utils/deprecation.py:87: FutureWarning: Function get_feature_names is deprecated; get_feature_names is deprecated in 1.0 and will be removed in 1.2. Please use get_feature_names_out instead.\n",
            "  warnings.warn(msg, category=FutureWarning)\n",
            "/usr/local/lib/python3.7/dist-packages/pyLDAvis/_prepare.py:247: FutureWarning: In a future version of pandas all arguments of DataFrame.drop except for the argument 'labels' will be keyword-only\n",
            "  by='saliency', ascending=False).head(R).drop('saliency', 1)\n",
            "/usr/local/lib/python3.7/dist-packages/sklearn/manifold/_t_sne.py:783: FutureWarning: The default initialization in TSNE will change from 'random' to 'pca' in 1.2.\n",
            "  FutureWarning,\n",
            "/usr/local/lib/python3.7/dist-packages/sklearn/manifold/_t_sne.py:793: FutureWarning: The default learning rate in TSNE will change from 200.0 to 'auto' in 1.2.\n",
            "  FutureWarning,\n",
            "/usr/local/lib/python3.7/dist-packages/sklearn/manifold/_t_sne.py:827: FutureWarning: 'square_distances' has been introduced in 0.24 to help phase out legacy squaring behavior. The 'legacy' setting will be removed in 1.1 (renaming of 0.26), and the default setting will be changed to True. In 1.3, 'square_distances' will be removed altogether, and distances will be squared by default. Set 'square_distances'=True to silence this warning.\n",
            "  FutureWarning,\n"
          ]
        },
        {
          "output_type": "execute_result",
          "data": {
            "text/plain": [
              "PreparedData(topic_coordinates=                x           y  topics  cluster       Freq\n",
              "topic                                                    \n",
              "1      150.222153  -72.269554       1        1  21.209045\n",
              "3       51.163364 -159.968018       2        1  20.829705\n",
              "4      -73.144554   21.523815       3        1  20.655454\n",
              "0      -66.410133 -110.606438       4        1  18.661119\n",
              "2       54.417324   12.443444       5        1  18.644677, topic_info=           Term        Freq       Total Category  logprob  loglift\n",
              "1872  interview  105.000000  105.000000  Default  30.0000  30.0000\n",
              "2662     police  304.000000  304.000000  Default  29.0000  29.0000\n",
              "2411        new  244.000000  244.000000  Default  28.0000  28.0000\n",
              "1595       govt  121.000000  121.000000  Default  27.0000  27.0000\n",
              "2365     murder   88.000000   88.000000  Default  26.0000  26.0000\n",
              "...         ...         ...         ...      ...      ...      ...\n",
              "288   australia   33.187759  134.028854   Topic5  -5.4477   0.2837\n",
              "2803        qld   30.083837   97.457355   Topic5  -5.5459   0.5042\n",
              "995        deal   23.022239   55.605543   Topic5  -5.8134   0.7978\n",
              "2629       plan   23.776529  103.915596   Topic5  -5.7812   0.2047\n",
              "3090      rural   22.911110   70.484166   Topic5  -5.8183   0.5558\n",
              "\n",
              "[323 rows x 6 columns], token_table=      Topic      Freq      Term\n",
              "term                           \n",
              "37        5  0.912205        25\n",
              "61        2  0.161837       abc\n",
              "61        4  0.829414       abc\n",
              "72        4  0.960598  accident\n",
              "75        1  0.257058   accused\n",
              "...     ...       ...       ...\n",
              "3987      5  0.331005      year\n",
              "3992      4  0.970374      york\n",
              "3993      2  0.165902     young\n",
              "3993      5  0.829511     young\n",
              "3994      1  0.962482     youth\n",
              "\n",
              "[496 rows x 3 columns], R=30, lambda_step=0.01, plot_opts={'xlab': 'PC1', 'ylab': 'PC2'}, topic_order=[2, 4, 5, 1, 3])"
            ],
            "text/html": [
              "\n",
              "<link rel=\"stylesheet\" type=\"text/css\" href=\"https://cdn.jsdelivr.net/gh/bmabey/pyLDAvis@3.3.1/pyLDAvis/js/ldavis.v1.0.0.css\">\n",
              "\n",
              "\n",
              "<div id=\"ldavis_el581396515088235046353063409\"></div>\n",
              "<script type=\"text/javascript\">\n",
              "\n",
              "var ldavis_el581396515088235046353063409_data = {\"mdsDat\": {\"x\": [150.22215270996094, 51.16336441040039, -73.1445541381836, -66.4101333618164, 54.41732406616211], \"y\": [-72.2695541381836, -159.968017578125, 21.523815155029297, -110.60643768310547, 12.44344425201416], \"topics\": [1, 2, 3, 4, 5], \"cluster\": [1, 1, 1, 1, 1], \"Freq\": [21.209045387392372, 20.829704844078744, 20.65545363847241, 18.661118695224232, 18.644677434832243]}, \"tinfo\": {\"Term\": [\"interview\", \"police\", \"new\", \"govt\", \"murder\", \"man\", \"crash\", \"killed\", \"council\", \"car\", \"cup\", \"world\", \"search\", \"charged\", \"fears\", \"missing\", \"plans\", \"drug\", \"water\", \"day\", \"sydney\", \"wa\", \"rural\", \"labor\", \"calls\", \"sex\", \"country\", \"election\", \"north\", \"plan\", \"labor\", \"fight\", \"coal\", \"cut\", \"climate\", \"attacks\", \"investigate\", \"black\", \"youth\", \"super\", \"tigers\", \"rugby\", \"way\", \"education\", \"detention\", \"delay\", \"vows\", \"questioned\", \"carbon\", \"korea\", \"alive\", \"pledges\", \"trading\", \"teens\", \"gun\", \"mid\", \"plea\", \"vs\", \"general\", \"senate\", \"govt\", \"safety\", \"change\", \"anti\", \"day\", \"push\", \"north\", \"housing\", \"hope\", \"union\", \"action\", \"report\", \"service\", \"minister\", \"death\", \"police\", \"federal\", \"qld\", \"test\", \"nsw\", \"health\", \"says\", \"new\", \"west\", \"court\", \"australia\", \"man\", \"interview\", \"fears\", \"cancer\", \"storm\", \"vote\", \"wall\", \"japan\", \"stay\", \"export\", \"risk\", \"pushes\", \"reveals\", \"award\", \"councillor\", \"planning\", \"korean\", \"alice\", \"extended\", \"track\", \"immigration\", \"strong\", \"response\", \"pilot\", \"mps\", \"times\", \"boom\", \"syrian\", \"daniel\", \"rare\", \"sunshine\", \"david\", \"street\", \"big\", \"wa\", \"boost\", \"new\", \"toll\", \"john\", \"south\", \"future\", \"games\", \"sex\", \"opposition\", \"plan\", \"help\", \"red\", \"council\", \"coast\", \"government\", \"wins\", \"mp\", \"set\", \"queensland\", \"says\", \"campaign\", \"jobs\", \"denies\", \"australia\", \"coronavirus\", \"act\", \"health\", \"trump\", \"murder\", \"killed\", \"drug\", \"country\", \"flood\", \"hour\", \"asylum\", \"train\", \"bomb\", \"teen\", \"drum\", \"share\", \"old\", \"kills\", \"beat\", \"alcohol\", \"protesters\", \"charged\", \"offer\", \"quits\", \"numbers\", \"financial\", \"seekers\", \"israeli\", \"british\", \"grandstand\", \"thursday\", \"march\", \"profit\", \"gaza\", \"car\", \"crash\", \"hit\", \"east\", \"election\", \"injured\", \"man\", \"jailed\", \"accused\", \"fatal\", \"charges\", \"police\", \"council\", \"face\", \"court\", \"canberra\", \"year\", \"dies\", \"melbourne\", \"port\", \"market\", \"nsw\", \"woman\", \"budget\", \"trial\", \"search\", \"missing\", \"victoria\", \"accident\", \"sri\", \"fined\", \"victim\", \"sets\", \"human\", \"pleads\", \"reporter\", \"york\", \"low\", \"fuel\", \"chief\", \"lanka\", \"olympics\", \"safe\", \"indonesian\", \"terrorist\", \"van\", \"working\", \"delays\", \"hunter\", \"french\", \"factory\", \"draft\", \"volunteers\", \"anthony\", \"guard\", \"plans\", \"news\", \"star\", \"abc\", \"england\", \"afl\", \"calls\", \"record\", \"rural\", \"national\", \"island\", \"pressure\", \"shot\", \"inquest\", \"workers\", \"energy\", \"continues\", \"rise\", \"man\", \"police\", \"school\", \"home\", \"park\", \"australian\", \"lead\", \"nsw\", \"attack\", \"dead\", \"death\", \"cup\", \"hill\", \"tourism\", \"violence\", \"bush\", \"hold\", \"bank\", \"broken\", \"food\", \"domestic\", \"closer\", \"post\", \"dairy\", \"tough\", \"ship\", \"church\", \"cowboys\", \"edge\", \"apologises\", \"investment\", \"nrn\", \"real\", \"camp\", \"away\", \"wallabies\", \"sugar\", \"candidate\", \"harvest\", \"roosters\", \"25\", \"world\", \"jail\", \"art\", \"grain\", \"young\", \"water\", \"hopes\", \"industry\", \"sydney\", \"arrested\", \"hospital\", \"dollar\", \"china\", \"make\", \"close\", \"chinese\", \"shire\", \"tasmanian\", \"talks\", \"regional\", \"school\", \"appeal\", \"government\", \"high\", \"says\", \"australia\", \"qld\", \"deal\", \"plan\", \"rural\"], \"Freq\": [105.0, 304.0, 244.0, 121.0, 88.0, 229.0, 85.0, 72.0, 125.0, 80.0, 62.0, 69.0, 59.0, 69.0, 59.0, 53.0, 65.0, 55.0, 93.0, 79.0, 97.0, 90.0, 70.0, 45.0, 64.0, 69.0, 43.0, 59.0, 63.0, 103.0, 44.71544402475644, 34.717215485012126, 32.82857710620743, 29.263282913281266, 28.356854386983482, 23.809924998460787, 27.331394943843396, 21.08574856775142, 21.083544451540185, 23.645486815776376, 19.26612739527409, 18.353164561407024, 19.99773145876587, 15.631852306245657, 15.630500332902576, 15.628385328388658, 14.723248139885643, 13.809365018423808, 13.786444154254532, 16.346365607846572, 12.90164318797427, 11.995469834146558, 11.99534510763049, 11.991509315807134, 11.087577442789657, 11.08742074165591, 11.08709106142948, 11.085826406698812, 12.789192142109178, 12.779258857316403, 106.89528488105427, 35.31752354227997, 40.985004172602316, 21.722875285923067, 61.0426391333898, 38.87518632892646, 49.42761261742355, 30.692810713699075, 17.83859755197221, 30.136816520455728, 29.950248939415328, 49.170850344002666, 30.920093288554003, 39.556652931436446, 51.520157961150005, 120.1694149100288, 27.58837212740399, 50.95696407754266, 32.80992636182188, 55.27513066738964, 44.87785063072813, 53.850239699860715, 63.34696809792699, 27.71027382373093, 36.97119379499499, 37.53670357274826, 38.633733018178425, 104.99243674874788, 58.50736036792312, 32.98838155575055, 32.077490788204635, 27.369443046844534, 22.05373254826456, 21.14054331876138, 17.49543226515553, 17.494521453157088, 15.672417527383773, 15.66952520828626, 15.667380894308966, 13.851506839516096, 13.850782385891762, 12.938955417976752, 12.937273900954322, 12.026792252244, 12.026214371593783, 11.117065151123027, 11.116659985482436, 11.114534293341599, 11.113873093264447, 11.112204162729661, 11.11053755154432, 10.204091687698105, 10.201850699814322, 9.29594053370148, 9.294467928195116, 9.293900698480272, 9.293884790554783, 24.788984691656843, 22.482790092711774, 34.68499237665368, 66.63155473753714, 41.23065464255198, 154.7076505838973, 17.338777694224813, 19.263290509201067, 50.01767419162602, 22.401856145438572, 17.25984715284551, 47.92221091422553, 28.685635527761658, 62.69770469570397, 34.437208247552675, 18.13738285808831, 61.961019437179836, 46.05527495306936, 43.48813432701963, 30.002548420375415, 35.83865363010692, 33.36729806930129, 29.54813079447391, 53.71898194308882, 23.24759313088014, 23.794183224490205, 22.304041468012713, 34.26090295989764, 24.939920849997094, 23.678510074914996, 24.974619715973443, 23.19121689213294, 87.46552840913509, 71.99784761656701, 54.73170154334105, 42.86276249733909, 32.9105893143456, 27.454298077875354, 26.546968634012693, 26.54483850496955, 25.639251794100392, 25.636506693594843, 22.91203136882553, 22.906017255088177, 20.1817664368204, 20.181242395712683, 19.2702284709812, 19.267049806261582, 20.984945094882494, 66.42568315272668, 17.451362243118396, 17.449556258998694, 16.542761653665437, 16.52946371894608, 15.636758354972672, 15.636308029680352, 15.63377307310478, 14.728136787686523, 14.72763335622226, 14.726167749174309, 14.724854480727986, 14.714855165833212, 76.00824744621606, 80.26906788838066, 42.91880848992874, 35.45960778990045, 48.284385593586514, 30.153500617554148, 128.45705059574536, 35.9089223814907, 48.83187063044952, 25.16840612921023, 29.73979039149141, 119.63389314057414, 63.11182984235743, 36.43368869226698, 55.79450364777098, 31.184742875304455, 34.61245515165399, 35.17967440961691, 34.72233934603417, 31.324774637325785, 32.02649988001739, 39.34081578997488, 31.02955507377717, 29.353632015097183, 29.404891917347697, 58.82099927459356, 52.4075421443413, 32.24642227403822, 22.17012395902263, 21.254995020258082, 18.504634487009685, 18.50420610045137, 17.589255909203366, 17.58669952871368, 17.57164524614874, 15.755340267978418, 15.75405015852137, 14.841610306239241, 14.837000065338476, 33.95496697405829, 13.924676808705296, 13.009140480375539, 13.006294305600525, 12.091849806631958, 12.09100232322873, 13.79655883792087, 12.895050410869995, 10.257296544598967, 23.0727459065461, 9.34202839001208, 9.340815981636393, 9.315166383446627, 8.427621543374626, 8.427062522345071, 8.426949866240504, 57.87804629576369, 33.868460817976974, 19.273464394174436, 40.728187506136244, 26.976652661925527, 30.714826680331154, 47.98167520883657, 31.933775326058147, 47.02355706313098, 34.61255388018135, 23.852691894151107, 19.805352793472817, 21.295982881036284, 21.10343100759709, 33.736269580474016, 21.01669860426774, 25.29960829841467, 29.584590355970523, 60.014290024732894, 63.97380213184175, 30.567992681691692, 28.760387875230414, 21.69932268919409, 32.753503607388915, 22.884157241215046, 25.64525953702166, 23.498567884954486, 22.957123189920818, 23.74736983328315, 61.39561680735189, 33.97536185683761, 28.501408224441363, 24.847634882166886, 23.02080187445212, 22.107002629297472, 20.278997224774212, 19.365807590602586, 18.454090689065023, 17.540220352379453, 17.526861263324626, 15.711072320883469, 14.800120143257121, 14.797618693997757, 13.886497039116689, 13.880204327145195, 12.970010959660089, 12.969485708952613, 12.056829431015974, 12.05669336859395, 12.914282617318419, 12.90819876417265, 11.14532039623709, 11.141836614345909, 11.135400029647776, 10.232275382562403, 10.23218804002032, 10.230841360079314, 10.230170234201704, 10.229635098706447, 63.94329750557788, 24.255244679581253, 21.786262560248495, 15.422020066936406, 24.751378969362587, 64.0549654819602, 17.30066271445307, 33.2128984103062, 61.91494299802055, 31.769590496898637, 45.92386715241619, 21.848747950737163, 36.14749934633109, 20.640254029109133, 26.160984515861095, 23.197521604409136, 16.893319676114555, 22.360095078237478, 33.78634436383304, 25.074348696078996, 30.18090331193952, 23.396396200750292, 31.68643238704989, 26.536328256118207, 39.05871628484958, 33.18775926854844, 30.083837263872933, 23.022239369380145, 23.77652943029579, 22.91110991628534], \"Total\": [105.0, 304.0, 244.0, 121.0, 88.0, 229.0, 85.0, 72.0, 125.0, 80.0, 62.0, 69.0, 59.0, 69.0, 59.0, 53.0, 65.0, 55.0, 93.0, 79.0, 97.0, 90.0, 70.0, 45.0, 64.0, 69.0, 43.0, 59.0, 63.0, 103.0, 45.45222165620001, 35.45337839862598, 33.6357802497093, 29.99947433308297, 29.0904780976761, 24.54554796029831, 28.18151644463054, 21.818588707461668, 21.81860101936037, 24.545592894640514, 20.00062403597153, 19.091671813086943, 20.911029951685858, 16.36467895853479, 16.364688267521867, 16.36469407525848, 15.455692442347397, 14.5467239301506, 14.546785698881038, 17.274179386853, 13.637744436324388, 12.728743316808972, 12.728737784626855, 12.728748468591746, 11.819752149232187, 11.819749638067407, 11.81974860218989, 11.819761299616014, 13.637767240015169, 13.63775833338745, 121.88027796668389, 40.00916103726622, 47.314679488582826, 24.556354755447902, 79.16919866247116, 48.181586807269504, 63.635702999866744, 37.286965961073605, 20.00444804913959, 39.1112918421808, 39.11178159810242, 74.6409638086574, 40.92461620839247, 59.17150550137692, 88.4060108571077, 304.14478213852294, 37.27388089076156, 97.45735490249959, 51.04528195339385, 124.76841198459364, 90.14378996451694, 166.76776799288513, 244.18392545904635, 40.93440645677431, 113.76591738234973, 134.0288539313487, 229.58987920539658, 105.72466219079081, 59.242492636681106, 33.7228658698649, 32.81144779446029, 28.25401428935677, 22.785887932590008, 21.874469284370836, 18.228804254354444, 18.228804737209458, 16.405983829509882, 16.405977420054437, 16.405976809450284, 14.58315020916099, 14.583147525071123, 13.671728691858762, 13.671737678658333, 12.760316576295333, 12.760322564720207, 11.848904692250052, 11.848905324124033, 11.84890416865241, 11.848911877509128, 11.848908667943336, 11.848880947336447, 10.937493352984866, 10.937496937259613, 10.02606956201333, 10.026073719039303, 10.026071869692942, 10.026072391902106, 28.268935075051814, 25.525861190130716, 40.99928583988526, 90.25507785015009, 52.90288504369116, 244.18392545904635, 20.04637506108343, 22.792831044441325, 71.04117204472271, 27.365366243331597, 20.062601913325096, 69.31939085668202, 37.40056986835711, 103.91559646630384, 53.79125020480597, 21.867313265169457, 125.62529378237157, 87.39539063187755, 82.13987190776493, 47.349681999717944, 65.58085042588986, 61.054065170079056, 53.71137309196871, 166.76776799288513, 34.62235364546613, 38.27280186799947, 35.51236663276583, 134.0288539313487, 56.52430935313717, 49.15411430473723, 90.14378996451694, 48.30781948511557, 88.19902682854742, 72.74201909873761, 55.4663735640824, 43.64652313782742, 33.64459333123609, 28.189161739069604, 27.27990470097748, 27.27990999622373, 26.37066041614209, 26.370672532734762, 23.64293736271435, 23.642958702203035, 20.915220142199843, 20.915221937244446, 20.005993296241154, 20.005995711702784, 21.82497321143932, 69.10814970674116, 18.187519824462576, 18.187527396023363, 17.27826448739957, 17.27829064088155, 16.369014111270854, 16.36901651719323, 16.36903755137934, 15.459769566899322, 15.459776280745753, 15.459776035953915, 15.45979162374677, 15.459842069150502, 80.02722261406439, 85.47004417571017, 49.113010992161065, 40.92981545908472, 59.18111914480217, 35.467174943048086, 229.58987920539658, 46.412273846557824, 70.02309214604696, 30.006473526887188, 39.16673078773368, 304.14478213852294, 125.62529378237157, 55.52511422486674, 113.76591738234973, 46.444621622426105, 57.40094423808935, 60.1682197406376, 61.00825956944882, 51.857767734408206, 55.62254127692276, 124.76841198459364, 68.30695648859997, 51.901563643588055, 56.43413091428476, 59.553234060617974, 53.13934013023482, 32.98136262087983, 22.902395596997486, 21.986132535888473, 19.237313129614687, 19.237308805277753, 18.321046320437674, 18.321031561955134, 18.320914501039034, 16.488496655468452, 16.488490220934743, 15.572244958545394, 15.572214960058474, 35.72219073197873, 14.655964940678546, 13.73970196543788, 13.739682307931659, 12.823427217743674, 12.823418049676027, 14.65528298077521, 13.738830575039154, 10.990870139516856, 24.727713522598133, 10.074607385076773, 10.074611261567835, 10.074405419532566, 9.158347211895364, 9.158343020633371, 9.158338645938723, 65.94636247760086, 38.46806702821019, 21.970382312565654, 49.43249191477503, 32.05282021484619, 37.5159107904774, 64.08789616376572, 40.25981098011059, 70.4841656121896, 48.48796302434038, 30.202636704887343, 23.80939859104081, 26.532654203097803, 26.52985621092476, 56.700586035065626, 27.46756726240399, 37.474259428925926, 53.91784293194149, 229.58987920539658, 304.14478213852294, 61.30086494313534, 62.14186438841367, 30.191221057798302, 97.67838774487406, 47.523558088139296, 124.76841198459364, 63.86647591461657, 57.455899969314466, 88.4060108571077, 62.12881950840248, 34.71821132492786, 29.236147427910325, 25.581409504006075, 23.75404776829049, 22.84035819975786, 21.012991046391043, 20.099301471668863, 19.18561544887247, 18.27192972699729, 18.27186486845564, 16.444550776623274, 15.53088089202938, 15.53087835983407, 14.617195749003217, 14.617214113851595, 13.703496889942963, 13.703508442995815, 12.78981359755747, 12.789826939603818, 13.703361499538882, 13.703355726540641, 11.876135631325347, 11.876124719294092, 11.876099104483538, 10.96245601070121, 10.962455229358271, 10.962452662447522, 10.962447927056166, 10.962445907181978, 69.45178679522732, 28.30532402823144, 25.573807916844714, 17.36163688502265, 30.138248932527244, 93.10325592462635, 20.105141718517757, 44.72052485082307, 97.58957633782518, 43.88722153568546, 71.22276695258299, 27.39680836508432, 54.72707084380877, 26.470184205557064, 38.31527460931032, 31.93581713042489, 20.093117393428386, 31.955010133985876, 63.85109282481127, 39.27191840676454, 61.30086494313534, 37.41224144611212, 82.13987190776493, 52.949942227791524, 166.76776799288513, 134.0288539313487, 97.45735490249959, 55.605543447916155, 103.91559646630384, 70.4841656121896], \"Category\": [\"Default\", \"Default\", \"Default\", \"Default\", \"Default\", \"Default\", \"Default\", \"Default\", \"Default\", \"Default\", \"Default\", \"Default\", \"Default\", \"Default\", \"Default\", \"Default\", \"Default\", \"Default\", \"Default\", \"Default\", \"Default\", \"Default\", \"Default\", \"Default\", \"Default\", \"Default\", \"Default\", \"Default\", \"Default\", \"Default\", \"Topic1\", \"Topic1\", \"Topic1\", \"Topic1\", \"Topic1\", \"Topic1\", \"Topic1\", \"Topic1\", \"Topic1\", \"Topic1\", \"Topic1\", \"Topic1\", \"Topic1\", \"Topic1\", \"Topic1\", \"Topic1\", \"Topic1\", \"Topic1\", \"Topic1\", \"Topic1\", \"Topic1\", \"Topic1\", \"Topic1\", \"Topic1\", \"Topic1\", \"Topic1\", \"Topic1\", \"Topic1\", \"Topic1\", \"Topic1\", \"Topic1\", \"Topic1\", \"Topic1\", \"Topic1\", \"Topic1\", \"Topic1\", \"Topic1\", \"Topic1\", \"Topic1\", \"Topic1\", \"Topic1\", \"Topic1\", \"Topic1\", \"Topic1\", \"Topic1\", \"Topic1\", \"Topic1\", \"Topic1\", \"Topic1\", \"Topic1\", \"Topic1\", \"Topic1\", \"Topic1\", \"Topic1\", \"Topic1\", \"Topic1\", \"Topic1\", \"Topic2\", \"Topic2\", \"Topic2\", \"Topic2\", \"Topic2\", \"Topic2\", \"Topic2\", \"Topic2\", \"Topic2\", \"Topic2\", \"Topic2\", \"Topic2\", \"Topic2\", \"Topic2\", \"Topic2\", \"Topic2\", \"Topic2\", \"Topic2\", \"Topic2\", \"Topic2\", \"Topic2\", \"Topic2\", \"Topic2\", \"Topic2\", \"Topic2\", \"Topic2\", \"Topic2\", \"Topic2\", \"Topic2\", \"Topic2\", \"Topic2\", \"Topic2\", \"Topic2\", \"Topic2\", \"Topic2\", \"Topic2\", \"Topic2\", \"Topic2\", \"Topic2\", \"Topic2\", \"Topic2\", \"Topic2\", \"Topic2\", \"Topic2\", \"Topic2\", \"Topic2\", \"Topic2\", \"Topic2\", \"Topic2\", \"Topic2\", \"Topic2\", \"Topic2\", \"Topic2\", \"Topic2\", \"Topic2\", \"Topic2\", \"Topic2\", \"Topic2\", \"Topic2\", \"Topic2\", \"Topic2\", \"Topic2\", \"Topic3\", \"Topic3\", \"Topic3\", \"Topic3\", \"Topic3\", \"Topic3\", \"Topic3\", \"Topic3\", \"Topic3\", \"Topic3\", \"Topic3\", \"Topic3\", \"Topic3\", \"Topic3\", \"Topic3\", \"Topic3\", \"Topic3\", \"Topic3\", \"Topic3\", \"Topic3\", \"Topic3\", \"Topic3\", \"Topic3\", \"Topic3\", \"Topic3\", \"Topic3\", \"Topic3\", \"Topic3\", \"Topic3\", \"Topic3\", \"Topic3\", \"Topic3\", \"Topic3\", \"Topic3\", \"Topic3\", \"Topic3\", \"Topic3\", \"Topic3\", \"Topic3\", \"Topic3\", \"Topic3\", \"Topic3\", \"Topic3\", \"Topic3\", \"Topic3\", \"Topic3\", \"Topic3\", \"Topic3\", \"Topic3\", \"Topic3\", \"Topic3\", \"Topic3\", \"Topic3\", \"Topic3\", \"Topic3\", \"Topic4\", \"Topic4\", \"Topic4\", \"Topic4\", \"Topic4\", \"Topic4\", \"Topic4\", \"Topic4\", \"Topic4\", \"Topic4\", \"Topic4\", \"Topic4\", \"Topic4\", \"Topic4\", \"Topic4\", \"Topic4\", \"Topic4\", \"Topic4\", \"Topic4\", \"Topic4\", \"Topic4\", \"Topic4\", \"Topic4\", \"Topic4\", \"Topic4\", \"Topic4\", \"Topic4\", \"Topic4\", \"Topic4\", \"Topic4\", \"Topic4\", \"Topic4\", \"Topic4\", \"Topic4\", \"Topic4\", \"Topic4\", \"Topic4\", \"Topic4\", \"Topic4\", \"Topic4\", \"Topic4\", \"Topic4\", \"Topic4\", \"Topic4\", \"Topic4\", \"Topic4\", \"Topic4\", \"Topic4\", \"Topic4\", \"Topic4\", \"Topic4\", \"Topic4\", \"Topic4\", \"Topic4\", \"Topic4\", \"Topic4\", \"Topic4\", \"Topic4\", \"Topic4\", \"Topic5\", \"Topic5\", \"Topic5\", \"Topic5\", \"Topic5\", \"Topic5\", \"Topic5\", \"Topic5\", \"Topic5\", \"Topic5\", \"Topic5\", \"Topic5\", \"Topic5\", \"Topic5\", \"Topic5\", \"Topic5\", \"Topic5\", \"Topic5\", \"Topic5\", \"Topic5\", \"Topic5\", \"Topic5\", \"Topic5\", \"Topic5\", \"Topic5\", \"Topic5\", \"Topic5\", \"Topic5\", \"Topic5\", \"Topic5\", \"Topic5\", \"Topic5\", \"Topic5\", \"Topic5\", \"Topic5\", \"Topic5\", \"Topic5\", \"Topic5\", \"Topic5\", \"Topic5\", \"Topic5\", \"Topic5\", \"Topic5\", \"Topic5\", \"Topic5\", \"Topic5\", \"Topic5\", \"Topic5\", \"Topic5\", \"Topic5\", \"Topic5\", \"Topic5\", \"Topic5\", \"Topic5\", \"Topic5\", \"Topic5\", \"Topic5\", \"Topic5\", \"Topic5\", \"Topic5\"], \"logprob\": [30.0, 29.0, 28.0, 27.0, 26.0, 25.0, 24.0, 23.0, 22.0, 21.0, 20.0, 19.0, 18.0, 17.0, 16.0, 15.0, 14.0, 13.0, 12.0, 11.0, 10.0, 9.0, 8.0, 7.0, 6.0, 5.0, 4.0, 3.0, 2.0, 1.0, -5.2785, -5.5315, -5.5875, -5.7024, -5.7339, -5.9087, -5.7707, -6.0302, -6.0303, -5.9156, -6.1204, -6.169, -6.0832, -6.3295, -6.3295, -6.3297, -6.3893, -6.4534, -6.4551, -6.2848, -6.5214, -6.5942, -6.5943, -6.5946, -6.6729, -6.673, -6.673, -6.6731, -6.5302, -6.5309, -4.4069, -5.5144, -5.3656, -6.0004, -4.9672, -5.4184, -5.1783, -5.6547, -6.1974, -5.673, -5.6792, -5.1835, -5.6474, -5.401, -5.1368, -4.2899, -5.7614, -5.1478, -5.588, -5.0664, -5.2748, -5.0926, -4.9301, -5.757, -5.4686, -5.4535, -5.4246, -4.4068, -4.9916, -5.5646, -5.5926, -5.7513, -5.9672, -6.0095, -6.1988, -6.1988, -6.3088, -6.309, -6.3091, -6.4323, -6.4324, -6.5005, -6.5006, -6.5736, -6.5736, -6.6522, -6.6523, -6.6525, -6.6525, -6.6527, -6.6528, -6.7379, -6.7382, -6.8311, -6.8313, -6.8314, -6.8314, -5.8503, -5.948, -5.5144, -4.8615, -5.3415, -4.0192, -6.2078, -6.1025, -5.1483, -5.9516, -6.2123, -5.1911, -5.7043, -4.9224, -5.5216, -6.1627, -4.9342, -5.2309, -5.2882, -5.6594, -5.4817, -5.5531, -5.6747, -5.077, -5.9145, -5.8913, -5.956, -5.5267, -5.8443, -5.8962, -5.8429, -5.9169, -4.5811, -4.7757, -5.0499, -5.2943, -5.5585, -5.7398, -5.7734, -5.7735, -5.8082, -5.8083, -5.9207, -5.9209, -6.0475, -6.0476, -6.0938, -6.0939, -6.0085, -4.8562, -6.1929, -6.193, -6.2464, -6.2472, -6.3027, -6.3027, -6.3029, -6.3626, -6.3626, -6.3627, -6.3628, -6.3635, -4.7215, -4.6669, -5.293, -5.4839, -5.1752, -5.646, -4.1967, -5.4713, -5.1639, -5.8267, -5.6598, -4.2679, -4.9074, -5.4568, -5.0306, -5.6124, -5.5081, -5.4919, -5.5049, -5.6079, -5.5858, -5.3801, -5.6174, -5.6729, -5.6712, -4.8763, -4.9917, -5.4774, -5.852, -5.8942, -6.0328, -6.0328, -6.0835, -6.0836, -6.0845, -6.1936, -6.1937, -6.2534, -6.2537, -5.4258, -6.3171, -6.3851, -6.3854, -6.4583, -6.4583, -6.3264, -6.3939, -6.6228, -5.8121, -6.7163, -6.7164, -6.7191, -6.8193, -6.8193, -6.8194, -4.8924, -5.4283, -5.9921, -5.2439, -5.6558, -5.526, -5.08, -5.4871, -5.1001, -5.4066, -5.7789, -5.9648, -5.8923, -5.9013, -5.4322, -5.9055, -5.72, -5.5635, -4.8562, -4.7923, -5.5308, -5.5918, -5.8735, -5.4618, -5.8203, -5.7064, -5.7938, -5.8172, -5.7833, -4.8326, -5.4243, -5.6, -5.7371, -5.8135, -5.854, -5.9403, -5.9864, -6.0346, -6.0854, -6.0862, -6.1955, -6.2553, -6.2554, -6.319, -6.3194, -6.3873, -6.3873, -6.4603, -6.4603, -6.3916, -6.392, -6.5389, -6.5392, -6.5398, -6.6244, -6.6244, -6.6245, -6.6246, -6.6246, -4.7919, -5.7613, -5.8686, -6.2141, -5.741, -4.7902, -6.0992, -5.447, -4.8241, -5.4914, -5.1229, -5.8658, -5.3623, -5.9227, -5.6856, -5.8059, -6.123, -5.8426, -5.4298, -5.7281, -5.5427, -5.7973, -5.494, -5.6714, -5.2848, -5.4477, -5.5459, -5.8134, -5.7812, -5.8183], \"loglift\": [30.0, 29.0, 28.0, 27.0, 26.0, 25.0, 24.0, 23.0, 22.0, 21.0, 20.0, 19.0, 18.0, 17.0, 16.0, 15.0, 14.0, 13.0, 12.0, 11.0, 10.0, 9.0, 8.0, 7.0, 6.0, 5.0, 4.0, 3.0, 2.0, 1.0, 1.5344, 1.5298, 1.5265, 1.5259, 1.5252, 1.5203, 1.5201, 1.5166, 1.5165, 1.5134, 1.5133, 1.5113, 1.5061, 1.5049, 1.5048, 1.5047, 1.5022, 1.4987, 1.4971, 1.4955, 1.4953, 1.4914, 1.4914, 1.4911, 1.4868, 1.4868, 1.4868, 1.4866, 1.4865, 1.4857, 1.4196, 1.426, 1.4071, 1.4281, 1.2907, 1.3361, 1.2981, 1.3561, 1.4362, 1.2901, 1.2839, 1.1334, 1.2704, 1.148, 1.0108, 0.6221, 1.2498, 0.9023, 1.1088, 0.7366, 0.8533, 0.4203, 0.2014, 1.1606, 0.4267, 0.278, -0.2314, 1.5618, 1.5563, 1.5468, 1.5462, 1.537, 1.5361, 1.5347, 1.5277, 1.5277, 1.523, 1.5229, 1.5227, 1.5173, 1.5173, 1.5137, 1.5136, 1.5096, 1.5095, 1.505, 1.505, 1.5048, 1.5047, 1.5046, 1.5045, 1.4994, 1.4992, 1.4932, 1.493, 1.493, 1.493, 1.4374, 1.4418, 1.4015, 1.2653, 1.3195, 1.1124, 1.4237, 1.4005, 1.2179, 1.3687, 1.4183, 1.1996, 1.3035, 1.0635, 1.1228, 1.3818, 0.862, 0.9282, 0.9329, 1.1125, 0.9645, 0.9646, 0.9712, 0.436, 1.1705, 1.0935, 1.1037, 0.2047, 0.7506, 0.8384, 0.2852, 0.835, 1.5688, 1.5669, 1.5639, 1.5591, 1.5551, 1.5508, 1.55, 1.5499, 1.5491, 1.549, 1.5458, 1.5455, 1.5415, 1.5415, 1.5397, 1.5396, 1.5379, 1.5376, 1.5359, 1.5358, 1.5337, 1.5329, 1.5314, 1.5314, 1.5312, 1.5287, 1.5287, 1.5286, 1.5285, 1.5278, 1.5257, 1.5144, 1.4424, 1.4337, 1.3737, 1.4149, 0.9965, 1.3206, 1.2167, 1.4014, 1.3018, 0.6441, 0.8888, 1.1558, 0.8647, 1.1789, 1.0713, 1.0405, 1.0136, 1.0731, 1.0252, 0.423, 0.7881, 1.0073, 0.9253, 1.6664, 1.6649, 1.6562, 1.6462, 1.6449, 1.6399, 1.6399, 1.638, 1.6378, 1.637, 1.6332, 1.6332, 1.6307, 1.6304, 1.628, 1.6275, 1.6241, 1.6239, 1.62, 1.6199, 1.6183, 1.6153, 1.6097, 1.6095, 1.6032, 1.6031, 1.6004, 1.5956, 1.5955, 1.5955, 1.5482, 1.5514, 1.5478, 1.485, 1.5063, 1.4787, 1.3893, 1.447, 1.274, 1.3416, 1.4427, 1.4946, 1.4589, 1.4499, 1.1595, 1.411, 1.2859, 1.0785, 0.337, 0.1197, 0.9829, 0.9083, 1.3485, 0.5861, 0.9479, 0.0966, 0.6789, 0.7613, 0.3643, 1.6677, 1.658, 1.6542, 1.6505, 1.6483, 1.647, 1.6441, 1.6424, 1.6407, 1.6387, 1.638, 1.634, 1.6314, 1.6312, 1.6283, 1.6279, 1.6246, 1.6246, 1.6206, 1.6206, 1.6203, 1.6198, 1.6161, 1.6158, 1.6152, 1.6107, 1.6107, 1.6105, 1.6105, 1.6104, 1.597, 1.5252, 1.5193, 1.5611, 1.4827, 1.3056, 1.5294, 1.3821, 1.2246, 1.3565, 1.2408, 1.4533, 1.2649, 1.4308, 1.298, 1.3599, 1.5062, 1.3226, 1.0431, 1.2309, 0.971, 1.2102, 0.7271, 0.9888, 0.2281, 0.2837, 0.5042, 0.7978, 0.2047, 0.5558]}, \"token.table\": {\"Topic\": [5, 2, 4, 4, 1, 3, 5, 1, 2, 3, 1, 2, 3, 4, 3, 2, 1, 4, 1, 5, 5, 1, 2, 5, 4, 5, 2, 5, 3, 1, 3, 4, 5, 1, 1, 2, 3, 4, 5, 1, 2, 3, 4, 5, 2, 5, 5, 3, 1, 2, 1, 3, 2, 2, 3, 4, 3, 5, 1, 3, 4, 5, 2, 4, 5, 5, 1, 2, 3, 5, 3, 5, 2, 5, 1, 3, 5, 1, 1, 4, 1, 3, 5, 3, 4, 3, 4, 1, 5, 1, 5, 5, 1, 1, 3, 5, 5, 1, 1, 2, 3, 3, 4, 2, 3, 4, 5, 2, 3, 2, 3, 1, 3, 4, 5, 5, 1, 3, 5, 1, 5, 2, 2, 4, 1, 3, 5, 1, 3, 4, 1, 2, 5, 1, 2, 4, 5, 1, 4, 1, 2, 1, 2, 3, 4, 5, 2, 5, 5, 4, 3, 3, 2, 3, 5, 1, 3, 4, 4, 5, 4, 5, 2, 2, 2, 3, 5, 4, 1, 3, 2, 1, 3, 1, 3, 4, 3, 5, 4, 4, 2, 4, 2, 4, 3, 1, 2, 4, 5, 1, 5, 4, 5, 3, 4, 1, 5, 1, 2, 3, 5, 1, 2, 5, 3, 4, 5, 5, 1, 2, 3, 5, 2, 3, 4, 5, 1, 2, 4, 5, 3, 4, 5, 3, 1, 2, 4, 1, 4, 2, 4, 1, 4, 5, 1, 3, 4, 1, 4, 2, 1, 5, 2, 4, 3, 1, 5, 2, 3, 5, 2, 1, 2, 3, 4, 2, 5, 3, 3, 1, 2, 1, 4, 2, 3, 4, 5, 4, 3, 5, 1, 3, 4, 5, 3, 3, 4, 5, 1, 2, 3, 4, 5, 1, 1, 2, 4, 4, 1, 2, 3, 5, 2, 3, 2, 4, 1, 2, 3, 4, 5, 4, 5, 1, 3, 5, 1, 3, 4, 5, 3, 3, 3, 4, 2, 4, 5, 2, 4, 2, 1, 2, 3, 5, 2, 4, 5, 1, 4, 1, 1, 3, 4, 1, 2, 3, 5, 4, 5, 3, 3, 1, 3, 2, 1, 3, 4, 5, 1, 2, 1, 3, 2, 5, 1, 3, 4, 5, 2, 3, 2, 4, 5, 1, 2, 3, 4, 4, 2, 2, 3, 4, 5, 2, 5, 1, 4, 5, 4, 1, 2, 1, 2, 3, 4, 5, 4, 5, 4, 3, 1, 1, 2, 3, 1, 2, 3, 4, 4, 2, 5, 3, 5, 2, 5, 3, 4, 1, 2, 3, 4, 1, 4, 2, 2, 2, 5, 2, 5, 2, 1, 1, 3, 5, 2, 1, 2, 5, 2, 5, 3, 1, 4, 1, 4, 3, 1, 2, 1, 2, 5, 5, 2, 1, 3, 1, 2, 3, 4, 1, 2, 3, 4, 5, 1, 2, 4, 4, 4, 5, 4, 2, 1, 1, 2, 3, 4, 2, 5, 1, 2, 5, 1, 1, 2, 3, 1, 2, 1, 2, 3, 4, 1, 3, 4, 5, 4, 4, 5, 3, 4, 5, 4, 2, 5, 1], \"Freq\": [0.9122051852906806, 0.16183687469756822, 0.8294139828250371, 0.9605982006041416, 0.25705805682584615, 0.6997691546925812, 0.04284300947097436, 0.2644743005520318, 0.48826024717298183, 0.24413012358649092, 0.7670323052084006, 0.23010969156252017, 0.15993214275162873, 0.8263160708834151, 0.9497152890463576, 0.9404155397125677, 0.9532368098476942, 0.8735204591022993, 0.8958984433599304, 0.08144531303272094, 0.9382466686059987, 0.13364609568239597, 0.21383375309183353, 0.6147720401390214, 0.2734281091420333, 0.7291416243787555, 0.1173075206380974, 0.8602551513460476, 0.9897395279035762, 0.04697300042060745, 0.4540723373992054, 0.3601263365579905, 0.12526133445495322, 0.9777740565751183, 0.2835210395775233, 0.2536767196219945, 0.0820718798777041, 0.13429943979987946, 0.24621563963311233, 0.15356518822954432, 0.1638028674448473, 0.1330898297989384, 0.3378434141049975, 0.21499126352136205, 0.9600120549540344, 0.9262280634464263, 0.9517921535228073, 0.9497154037120383, 0.1463440125135797, 0.853673406329215, 0.962482050583697, 0.9859442118516227, 0.9142859703058803, 0.7750049919988132, 0.03780512156091772, 0.17012304702412973, 0.9774551466314987, 0.945306483749279, 0.23120690702894625, 0.5587500253199534, 0.19267242252412187, 0.9682560304817995, 0.015603570406565853, 0.7489713795151609, 0.21844998569192192, 0.9262272124095325, 0.05776614786158261, 0.6643107004082001, 0.17329844358474783, 0.08664922179237391, 0.6674615685754975, 0.32296527511717626, 0.9785645184292935, 0.9122044095759912, 0.012495747913463823, 0.9496768414232506, 0.037487243740391474, 0.9624119231423683, 0.8665386819304868, 0.12681053881909563, 0.014470073417440301, 0.9550248455510599, 0.014470073417440301, 0.7659561928358715, 0.22978685785076144, 0.027993803837590335, 0.9517893304780713, 0.3289048677823824, 0.6578097355647649, 0.25050243641264125, 0.7201945046863436, 0.9577748462159619, 0.9625142600264375, 0.18269476263388318, 0.13049625902420225, 0.6785805469258518, 0.9851211208919903, 0.9810980971754091, 0.16019151466431558, 0.5263435481827512, 0.30894077828118005, 0.32021980374980663, 0.6671245911454304, 0.4422875800889811, 0.22998954164627017, 0.017691503203559243, 0.3184470576640664, 0.4935311841531405, 0.5014913645427073, 0.9600122316483061, 0.9851872934807241, 0.3252292149646954, 0.49223881183845797, 0.061529851479807246, 0.12305970295961449, 0.9486629656945986, 0.05850002826394883, 0.9360004522231813, 0.9818309841176072, 0.9666836051196817, 0.9658177217557676, 0.8976594679240378, 0.884362991871712, 0.10612355902460543, 0.7705016727536492, 0.012631174963174579, 0.21472997437396782, 0.22626048859982917, 0.36549771235357015, 0.40030701829200543, 0.3237087326888549, 0.2517734587579983, 0.41362782510242574, 0.5881952991188414, 0.10180303253979946, 0.27147475343946526, 0.04524579223991087, 0.9777145803287667, 0.9098460697889372, 0.3660696605898809, 0.6195025025367216, 0.9777149273142193, 0.016620069603365716, 0.5817024361178, 0.23268097444712002, 0.16620069603365714, 0.18250301032773647, 0.8030132454420404, 0.9851176240791083, 0.8933529697495124, 0.9915917783313599, 0.9728063669564053, 0.12216033578255989, 0.8551223504779192, 0.9486621659028207, 0.9777154834837383, 0.8110694879317064, 0.16897280998577216, 0.7645380386032068, 0.21843943960091622, 0.842359574571668, 0.15599251380956816, 0.9325899446000885, 0.94041509837515, 0.2341282891801417, 0.6483552623450078, 0.10805921039083463, 0.8933347169764045, 0.13330456830976206, 0.8331535519360129, 0.9959067786332312, 0.7511962621241267, 0.24145594139704074, 0.9872119831986575, 0.9838936242788336, 0.9876639150168347, 0.9808411020192763, 0.9382028972679035, 0.8933350607122856, 0.9632541060134244, 0.8039358875878728, 0.14617016137961325, 0.8473477205720266, 0.09968796712612078, 0.9702557071997456, 0.9532352159418099, 0.5234972858039615, 0.0852204883866914, 0.3895793754820178, 0.87791069880271, 0.1148668204040929, 0.05759825566117381, 0.8639738349176072, 0.970260257443699, 0.8735208763597763, 0.9306455720151934, 0.912204623173019, 0.49920244109675477, 0.27733468949819706, 0.04437355031971153, 0.18858758885877402, 0.11154230431818317, 0.6320730578030379, 0.24167499268939685, 0.2832864280657711, 0.2077433805815655, 0.509915570518388, 0.979313124221576, 0.02036120326973254, 0.1018060163486627, 0.8755317405984991, 0.9632073108307572, 0.03218442220367143, 0.2091987443238643, 0.46667412195323577, 0.28965979983304285, 0.8997998822953877, 0.09997776469948752, 0.09947704064965174, 0.8455548455220399, 0.2106068135486276, 0.14040454236575173, 0.6458608948824579, 0.9578149307852085, 0.8313897149036745, 0.16091413836845314, 0.9824774297850248, 0.040440455567641594, 0.9301304780557567, 0.9283558015780845, 0.9357872740444688, 0.22361097132374003, 0.022361097132374, 0.737916205368342, 0.11278033862079673, 0.8458525396559754, 0.028195084655199182, 0.18846690913993888, 0.7915610183877433, 0.9931457601682085, 0.9580747740473116, 0.9382456898491635, 0.19865815222116318, 0.7946326088846527, 0.9774564026613551, 0.10598712796955904, 0.8478970237564724, 0.08618409891366831, 0.7756568902230148, 0.12927614837050247, 0.9600232913995478, 0.2351539359736568, 0.6270771625964182, 0.05225643021636818, 0.10451286043273636, 0.8335954389761374, 0.13162033246991645, 0.9897993057117315, 0.9562413470920583, 0.9262379208691818, 0.9508666934337894, 0.9900506149155787, 0.9552424597538526, 0.04208439099384586, 0.2104219549692293, 0.4839704964292274, 0.2735485414599981, 0.9632522503936486, 0.18889177200929022, 0.7933454424390189, 0.1698681149838912, 0.5575158645625148, 0.26133556151367876, 0.008711185383789294, 0.9702598514438605, 0.5753063284304933, 0.28765316421524667, 0.12584825934417043, 0.08195611602898202, 0.11473856244057483, 0.5736928122028742, 0.03278244641159281, 0.19669467846955685, 0.9306457697354882, 0.6760010525517084, 0.21970034207930522, 0.11830018419654896, 0.9785593850536626, 0.3202154266622573, 0.5489407314210125, 0.01524835365058368, 0.10673847555408576, 0.9283577114911202, 0.9864054415149247, 0.2681077774596172, 0.7218286316220464, 0.25800224106302255, 0.6347674184883888, 0.008190547335334048, 0.05323855767967132, 0.045048010344337266, 0.8838499728896287, 0.10398234975172103, 0.7700079937845993, 0.22000228393845694, 0.9486723385672522, 0.4408167029231035, 0.31257911661820065, 0.2083860777454671, 0.03205939657622571, 0.9838951135629103, 0.9347068849450634, 0.9562414291612815, 0.9461631724400869, 0.7753892548181613, 0.1336878025548554, 0.10695024204388433, 0.26497768953050094, 0.7286886462088775, 0.9283555395915897, 0.15397111255756718, 0.6062612556954208, 0.009623194534847949, 0.2309566688363508, 0.9508673184643605, 0.8795026415550987, 0.12131070918001362, 0.93064585129687, 0.9824837072941509, 0.9427482117699217, 0.39454893539927943, 0.39454893539927943, 0.2104260988796157, 0.13498459933429457, 0.2506856844779756, 0.5977889399090188, 0.9729666816283468, 0.8400044177313138, 0.12600066265969706, 0.9702588731506242, 0.962200493744161, 0.8094378492763918, 0.1867933498330135, 0.9752542984998762, 0.5233058095104524, 0.12313077870834173, 0.051304491128475724, 0.3078269467708543, 0.4468327398539108, 0.5585409248173885, 0.9624160097644102, 0.9347064958218009, 0.8976596335006757, 0.9486727382272955, 0.024838666045750347, 0.1490319962745021, 0.7948373134640111, 0.049677332091500694, 0.8231463912245056, 0.13719106520408428, 0.25463487412108476, 0.1018539496484339, 0.6365871853027119, 0.656475981816256, 0.187564566233216, 0.04019240704997486, 0.10717975213326629, 0.9703734873059855, 0.9283552881239264, 0.9752543347972776, 0.2782010404038965, 0.556402080807793, 0.1669206242423379, 0.9752539174895669, 0.9122050172132841, 0.9428194752259137, 0.6668164344683932, 0.32631442537814986, 0.9461645261255673, 0.8747996481955602, 0.09997710265092116, 0.32380357817287464, 0.32380357817287464, 0.06595998814632631, 0.059963625587569375, 0.23385813979152056, 0.5057024893328439, 0.4893895058059779, 0.9907102599994008, 0.9774565463281768, 0.9532358384862918, 0.757490304665161, 0.146611026709386, 0.073305513354693, 0.2456838862115785, 0.5405045496654727, 0.08189462873719283, 0.13103140597950852, 0.9824766383522792, 0.6924469388261085, 0.30294553573642247, 0.9728054889279519, 0.9577760495514124, 0.14930485604892618, 0.846060850943915, 0.1884470344250832, 0.7914775445853495, 0.05630537735894715, 0.7038172169868394, 0.2252215094357886, 0.9551475215443741, 0.09103164303409175, 0.8648006088238717, 0.9325899693030655, 0.9752693694120596, 0.8618710192040866, 0.07835191083673515, 0.9283558921087166, 0.9122043445591307, 0.8976595867459676, 0.977772266614931, 0.1537049402497107, 0.20493992033294758, 0.6353137530321376, 0.8976598401131295, 0.18793726887219445, 0.2819059033082916, 0.5324889284712175, 0.28164597545935416, 0.6884679400117546, 0.9859437588376013, 0.9427478302057789, 0.9357879430830199, 0.6464848216556071, 0.35262808453942207, 0.9702598360806568, 0.9499703592161981, 0.9142862699222558, 0.09976866111233516, 0.8480336194548489, 0.9658178792252325, 0.9919227583424728, 0.9283558510850973, 0.9427486215084901, 0.9897393357873073, 0.212637278285126, 0.17719773190427165, 0.5138734225223878, 0.08859886595213583, 0.18630524200689802, 0.4761133962398505, 0.12420349467126535, 0.12420349467126535, 0.10350291222605446, 0.7670419100717497, 0.20454450935246657, 0.9552869104175736, 0.9876641370328969, 0.9702449340204474, 0.9772721865104804, 0.873520059340965, 0.9556164205017353, 0.970516206630844, 0.9306448515468205, 0.7423405042233708, 0.14403621723737045, 0.11079709018259265, 0.9655098833578492, 0.92623006116943, 0.08592610344880489, 0.2255560215531128, 0.6874088275904391, 0.9564330425717548, 0.6840211553957009, 0.24429326978417887, 0.07328798093525365, 0.3590309223217437, 0.633583980567783, 0.2635163521449546, 0.0878387840483182, 0.45383371758297736, 0.20495716277940915, 0.03527300403496941, 0.12345551412239293, 0.59964106859448, 0.24691102824478586, 0.9462231831884245, 0.07199238825549693, 0.9215025696703607, 0.6097460671522398, 0.05226394861304912, 0.3310050078826444, 0.9703738659883773, 0.16590214020707952, 0.8295107010353977, 0.9624815074699795], \"Term\": [\"25\", \"abc\", \"abc\", \"accident\", \"accused\", \"accused\", \"accused\", \"act\", \"act\", \"act\", \"action\", \"action\", \"afl\", \"afl\", \"alcohol\", \"alice\", \"alive\", \"anthony\", \"anti\", \"anti\", \"apologises\", \"appeal\", \"appeal\", \"appeal\", \"arrested\", \"arrested\", \"art\", \"art\", \"asylum\", \"attack\", \"attack\", \"attack\", \"attack\", \"attacks\", \"australia\", \"australia\", \"australia\", \"australia\", \"australia\", \"australian\", \"australian\", \"australian\", \"australian\", \"australian\", \"award\", \"away\", \"bank\", \"beat\", \"big\", \"big\", \"black\", \"bomb\", \"boom\", \"boost\", \"boost\", \"boost\", \"british\", \"broken\", \"budget\", \"budget\", \"budget\", \"bush\", \"calls\", \"calls\", \"calls\", \"camp\", \"campaign\", \"campaign\", \"campaign\", \"campaign\", \"canberra\", \"canberra\", \"cancer\", \"candidate\", \"car\", \"car\", \"car\", \"carbon\", \"change\", \"change\", \"charged\", \"charged\", \"charged\", \"charges\", \"charges\", \"chief\", \"chief\", \"china\", \"china\", \"chinese\", \"chinese\", \"church\", \"climate\", \"close\", \"close\", \"close\", \"closer\", \"coal\", \"coast\", \"coast\", \"coast\", \"continues\", \"continues\", \"coronavirus\", \"coronavirus\", \"coronavirus\", \"coronavirus\", \"council\", \"council\", \"councillor\", \"country\", \"court\", \"court\", \"court\", \"court\", \"cowboys\", \"crash\", \"crash\", \"cup\", \"cut\", \"dairy\", \"daniel\", \"david\", \"david\", \"day\", \"day\", \"day\", \"dead\", \"dead\", \"dead\", \"deal\", \"deal\", \"deal\", \"death\", \"death\", \"death\", \"death\", \"delay\", \"delays\", \"denies\", \"denies\", \"detention\", \"dies\", \"dies\", \"dies\", \"dies\", \"dollar\", \"dollar\", \"domestic\", \"draft\", \"drug\", \"drum\", \"east\", \"east\", \"edge\", \"education\", \"election\", \"election\", \"energy\", \"energy\", \"england\", \"england\", \"export\", \"extended\", \"face\", \"face\", \"face\", \"factory\", \"fatal\", \"fatal\", \"fears\", \"federal\", \"federal\", \"fight\", \"financial\", \"fined\", \"flood\", \"food\", \"french\", \"fuel\", \"future\", \"future\", \"games\", \"games\", \"gaza\", \"general\", \"government\", \"government\", \"government\", \"govt\", \"govt\", \"grain\", \"grain\", \"grandstand\", \"guard\", \"gun\", \"harvest\", \"health\", \"health\", \"health\", \"health\", \"help\", \"help\", \"help\", \"high\", \"high\", \"high\", \"hill\", \"hit\", \"hit\", \"hit\", \"hold\", \"home\", \"home\", \"home\", \"home\", \"hope\", \"hope\", \"hopes\", \"hopes\", \"hospital\", \"hospital\", \"hospital\", \"hour\", \"housing\", \"housing\", \"human\", \"hunter\", \"hunter\", \"immigration\", \"indonesian\", \"industry\", \"industry\", \"industry\", \"injured\", \"injured\", \"injured\", \"inquest\", \"inquest\", \"interview\", \"investigate\", \"investment\", \"island\", \"island\", \"israeli\", \"jail\", \"jail\", \"jailed\", \"jailed\", \"jailed\", \"japan\", \"jobs\", \"jobs\", \"jobs\", \"jobs\", \"john\", \"john\", \"killed\", \"kills\", \"korea\", \"korean\", \"labor\", \"lanka\", \"lead\", \"lead\", \"lead\", \"lead\", \"low\", \"make\", \"make\", \"man\", \"man\", \"man\", \"man\", \"march\", \"market\", \"market\", \"market\", \"melbourne\", \"melbourne\", \"melbourne\", \"melbourne\", \"melbourne\", \"mid\", \"minister\", \"minister\", \"minister\", \"missing\", \"mp\", \"mp\", \"mp\", \"mp\", \"mps\", \"murder\", \"national\", \"national\", \"new\", \"new\", \"new\", \"new\", \"new\", \"news\", \"news\", \"north\", \"north\", \"nrn\", \"nsw\", \"nsw\", \"nsw\", \"nsw\", \"numbers\", \"offer\", \"old\", \"olympics\", \"opposition\", \"opposition\", \"opposition\", \"park\", \"park\", \"pilot\", \"plan\", \"plan\", \"plan\", \"plan\", \"planning\", \"plans\", \"plans\", \"plea\", \"pleads\", \"pledges\", \"police\", \"police\", \"police\", \"port\", \"port\", \"port\", \"post\", \"pressure\", \"pressure\", \"profit\", \"protesters\", \"push\", \"push\", \"pushes\", \"qld\", \"qld\", \"qld\", \"qld\", \"queensland\", \"queensland\", \"questioned\", \"quits\", \"rare\", \"real\", \"record\", \"record\", \"record\", \"record\", \"red\", \"red\", \"regional\", \"regional\", \"regional\", \"report\", \"report\", \"report\", \"report\", \"reporter\", \"response\", \"reveals\", \"rise\", \"rise\", \"rise\", \"risk\", \"roosters\", \"rugby\", \"rural\", \"rural\", \"safe\", \"safety\", \"safety\", \"says\", \"says\", \"says\", \"says\", \"says\", \"school\", \"school\", \"search\", \"seekers\", \"senate\", \"service\", \"service\", \"service\", \"set\", \"set\", \"set\", \"set\", \"sets\", \"sex\", \"sex\", \"share\", \"ship\", \"shire\", \"shire\", \"shot\", \"shot\", \"south\", \"south\", \"south\", \"sri\", \"star\", \"star\", \"stay\", \"storm\", \"street\", \"street\", \"strong\", \"sugar\", \"sunshine\", \"super\", \"sydney\", \"sydney\", \"sydney\", \"syrian\", \"talks\", \"talks\", \"talks\", \"tasmanian\", \"tasmanian\", \"teen\", \"teens\", \"terrorist\", \"test\", \"test\", \"thursday\", \"tigers\", \"times\", \"toll\", \"toll\", \"tough\", \"tourism\", \"track\", \"trading\", \"train\", \"trial\", \"trial\", \"trial\", \"trial\", \"trump\", \"trump\", \"trump\", \"trump\", \"trump\", \"union\", \"union\", \"van\", \"victim\", \"victoria\", \"violence\", \"volunteers\", \"vote\", \"vows\", \"vs\", \"wa\", \"wa\", \"wa\", \"wall\", \"wallabies\", \"water\", \"water\", \"water\", \"way\", \"west\", \"west\", \"west\", \"wins\", \"wins\", \"woman\", \"woman\", \"woman\", \"woman\", \"workers\", \"workers\", \"workers\", \"workers\", \"working\", \"world\", \"world\", \"year\", \"year\", \"year\", \"york\", \"young\", \"young\", \"youth\"]}, \"R\": 30, \"lambda.step\": 0.01, \"plot.opts\": {\"xlab\": \"PC1\", \"ylab\": \"PC2\"}, \"topic.order\": [2, 4, 5, 1, 3]};\n",
              "\n",
              "function LDAvis_load_lib(url, callback){\n",
              "  var s = document.createElement('script');\n",
              "  s.src = url;\n",
              "  s.async = true;\n",
              "  s.onreadystatechange = s.onload = callback;\n",
              "  s.onerror = function(){console.warn(\"failed to load library \" + url);};\n",
              "  document.getElementsByTagName(\"head\")[0].appendChild(s);\n",
              "}\n",
              "\n",
              "if(typeof(LDAvis) !== \"undefined\"){\n",
              "   // already loaded: just create the visualization\n",
              "   !function(LDAvis){\n",
              "       new LDAvis(\"#\" + \"ldavis_el581396515088235046353063409\", ldavis_el581396515088235046353063409_data);\n",
              "   }(LDAvis);\n",
              "}else if(typeof define === \"function\" && define.amd){\n",
              "   // require.js is available: use it to load d3/LDAvis\n",
              "   require.config({paths: {d3: \"https://d3js.org/d3.v5\"}});\n",
              "   require([\"d3\"], function(d3){\n",
              "      window.d3 = d3;\n",
              "      LDAvis_load_lib(\"https://cdn.jsdelivr.net/gh/bmabey/pyLDAvis@3.3.1/pyLDAvis/js/ldavis.v3.0.0.js\", function(){\n",
              "        new LDAvis(\"#\" + \"ldavis_el581396515088235046353063409\", ldavis_el581396515088235046353063409_data);\n",
              "      });\n",
              "    });\n",
              "}else{\n",
              "    // require.js not available: dynamically load d3 & LDAvis\n",
              "    LDAvis_load_lib(\"https://d3js.org/d3.v5.js\", function(){\n",
              "         LDAvis_load_lib(\"https://cdn.jsdelivr.net/gh/bmabey/pyLDAvis@3.3.1/pyLDAvis/js/ldavis.v3.0.0.js\", function(){\n",
              "                 new LDAvis(\"#\" + \"ldavis_el581396515088235046353063409\", ldavis_el581396515088235046353063409_data);\n",
              "            })\n",
              "         });\n",
              "}\n",
              "</script>"
            ]
          },
          "metadata": {},
          "execution_count": 11
        }
      ]
    }
  ]
}